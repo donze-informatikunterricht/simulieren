{
 "cells": [
  {
   "cell_type": "markdown",
   "metadata": {},
   "source": [
    "# Simulationen\n",
    "\n",
    "Simulationen kommen in vielen Situationen zur Anwendung. Beispielsweise lässt sich die Ausbreitung eines Krankheitserregers simulieren, aber auch die Ausbreitung eines Feuers in einem Gebäude, um Schlüsse auf Brandschutzeinrichtungen zu ziehen oder Verkehrssimulationen zur Vorhersage von Staus, Auswirkungen einer Fahrspursperrung, eines neuen Tempolimits oder der Fahrweise autonomer Fahrzeuge.\n",
    "\n",
    "## 1. Pandemiesimulation\n",
    "\n",
    "Eine ganz einfache Simulation hat die Washington Post im März 2020 auf ihrer Website präsentiert. Ausgehend von einem fiktiven Krankheitserreger, genannt \"Simulitis\" soll gezeigt werden, wie schnell sich dieser unter verschiedenen Umständen verbreitet. Simulitis verbreitet sich noch schneller als Covid-19, es reicht eine blosse Begegnung (Berührung) mit einer gesunden Person (grüne Punkte), um diese zu infizieren, worauf diese augenblicklich krank wird. Personen sind ansteckend, solange sie krank sind (rote Punkte). Infizierte Personen genesen nach einer gewissen Zeit (violette Punkte), sind nicht mehr ansteckend und sind immun. Die Personen sind zufällig im Raum verteilt und bewegen sich in eine zufällige Richtung. Wenn sich Personen berühren, prallen sie aneinander ab wie Billardkugeln.\n",
    "\n",
    "<img src=\"images/simulation_ohne_massnahmen.png\" alt=\"simulation_ohne_massnahmen\" width=\"50%\"/>\n",
    "\n",
    "**Quelle:** Washington Post, 14.3.2020: [Why outbreaks like coronavirus spread exponentially, and how to “flatten the curve”](https://www.washingtonpost.com/graphics/2020/world/corona-simulator/). Um die Seite zu sehen, ist *kein* Account nötig. Klicken Sie auf den Button \"Browse now\" in der Box \"Free\"."
   ]
  },
  {
   "cell_type": "markdown",
   "metadata": {},
   "source": [
    "## 2. Was ist eine Simulation?\n",
    "\n",
    "Der Kern einer Simulation besteht in einem passenden Modell, einem formal beschriebenen, vereinfachten Abbild der Wirklichkeit. Zu Beginn der Coronapandemie stellte dies ein Problem dar, weil noch wenig zur Übertragung des Virus bekannt war und zu wenig Daten zur Verfügung standen, anhand derer sich realistische Modelle erstellen liessen. Je grösser die Datengrundlage, desto passender die Modelle, die darauf basierend erstellt werden können, vorausgesetzt, die \"Spielregeln\" ändern sich nicht (auf die Ausbreitung eines Virus bezogen bedeutet dies, das Virus mutiert nicht wesentlich).\n",
    "\n",
    "Anhand einer Simulation sollen Schlüsse auf die reale Welt gezogen werden. Dazu wird die Realität in einem formal beschriebenen Modell vereinfacht dargestellt. Durch Verändern der verschiedenen Einflussfaktoren (Parameter) sollen Erkenntnisse darüber gewonnen werden, wie sich diese auf das dargestellte System auswirken. Dabei wird das zu beobachtende System oft graphisch dargestellt (visualisiert).\n",
    "\n",
    "Die *Simulation besteht also aus drei Teilen*, wobei am Anfang eine Frage definiert wird und am Ende Schlüsse daraus gezogen werden. Der schwierigste Teil der Simulation besteht in der Definition eines passenden, aussagekräftigen Modells.\n",
    "\n",
    "<img src=\"images/simulation_teile.png\" alt=\"simulation_teile\" width=\"25%\"/>"
   ]
  },
  {
   "cell_type": "markdown",
   "metadata": {},
   "source": [
    "## 3. Game of Life (Spiel des Lebens) von John Conway\n",
    "\n",
    "1970 hat sich der britische Mathematiker John Conway als einfache Darstellung des Lebens das \"Game of Life\" überlegt.\n",
    "\n",
    "Dazu hat er ganz einfache Regeln aufgestellt, die als Modell dienen sollen. Das **Modell** ist eine *Abstraktion der realen Welt* – eine stark vereinfachte Abbildung der Wirklichkeit.\n",
    "\n",
    "### 3.1. Zellen\n",
    "\n",
    "Das Game of Life simuliert eine Welt über die Zeit. Die Welt besteht aus einem Raster von Zellen. Zum Zeitpunkt $t_{0}$ hat die Welt den Status $W_{0}$.\n",
    "\n",
    "Jede Zelle kann einen von zwei Zuständen (tot oder lebend) annehmen.  \n",
    "Ausserdem hat jede Zelle 8 Nachbarn:  \n",
    "<img src=\"images/nachbarn.png\" alt=\"nachbarn\" width=\"12.5%\"/>\n",
    "\n",
    "### 3.2. Regeln\n",
    "\n",
    "Vom Zustand (Status) $S_{Zelle}$ der Zelle und den Zuständen $S_{Nachbar}$ ihrer Nachbarn zum Zeitpunkt $t$ hängt ab, ob die Zelle im nächsten Zyklus (also zum Zeitpunkt $t+1$) geboren wird, überlebt oder stirbt.\n",
    "\n",
    "Dabei gelten folgende Regeln:\n",
    "\n",
    "* **Unterpopulation**  \n",
    "Eine lebende Zelle mit weniger als 2 lebenden Nachbarn wird sterben.\n",
    "\n",
    "* **Überleben**  \n",
    "Eine lebende Zelle mit 2 oder 3 lebenden Nachbarn wird überleben.\n",
    "    \n",
    "* **Überpopulation**  \n",
    "Eine lebende Zelle mit mehr als 3 lebenden Nachbarn wird sterben.\n",
    "    \n",
    "* **Vermehrung**  \n",
    "Eine tote Zelle mit genau 3 Nachbarn wird geboren (lebend) werden.\n",
    "\n",
    "### 3.3. Berechnungszyklen (Ticks)\n",
    "\n",
    "\n",
    "Mit jedem Berechnungszyklus (Tick) wird die nächste Generation ermittelt, indem für jede Zelle der neue Status anhand ihres Status und den Stati ihrer Nachbarn berechnet wird.\n",
    "\n",
    "<img src=\"images/generationen.png\" alt=\"generationen\"/>"
   ]
  },
  {
   "cell_type": "markdown",
   "metadata": {},
   "source": [
    "## 4. Abbildung des Game of Life im Code\n",
    "\n",
    "Der Code, der hier verwendet wird, basiert auf der Implementation von [julienmesselier auf GitHub](https://github.com/julienmesselier/game-of-life), ist aber zum besseren Verständnis etwas vereinfacht und mit Kommentaren versehen. Die Vereinfachung geht auf Kosten der Effizienz, was für dieses Beispiel aber nicht stark ins Gewicht fällt, da die Welt genügend klein ist. Gerade in effizienten Matrizenoperationen liegt der grosse Vorteil von NumPy. Diese zu verstehen erfordert aber Kenntnisse in Linearer Algebra, die Sie sich erst in einem allfälligen naturwissenschaftlichen oder technischen Studium aneignen werden.\n",
    "\n",
    "### 4.1. Repräsentation der Welt\n",
    "\n",
    "Im [Jupyter Notebook \"Listen und Arrays\"](./listen-und-arrays-neu.ipynb) haben Sie sich an Listen erinnert und eine Einführung in Arrays mit NumPy erhalten. Ausserdem haben Sie sich überlegt, wie Sie ein Pixelbild in einem *zweidimensionalen Array* codieren können. Dieses Wissen werden Sie hier brauchen. \n",
    "\n",
    "Ein solcher zweidimensionaler Array wird auch als *Matrix* (Plural: Matrizen) bezeichnet. \n",
    "\n",
    "Ihre Welt wird also mit einer Matrix mit der **Dimension $n\\cdot{m}$** (*Zeilen* $\\cdot{}$ *Spalten*) dargestellt, mit\n",
    "* $n$: Anzahl Zeilen und \n",
    "* $m$: Anzahl Spalten.\n",
    "\n",
    "Darin hat jedes Element \n",
    "* die **Koordinaten $(i,j)$**, mit \n",
    "    * $i$: Zeile und\n",
    "    * $j$: Spalte sowie\n",
    "* einen Wert, der den **Zustand** der Zelle repräsentiert:\n",
    "    * 1 für lebend und \n",
    "    * 0 für tot.\n",
    "    \n",
    "<img src=\"images/matrix_nxm.png\" alt=\"aufgabe3\" width=\"50%\"/>\n",
    "\n",
    "Sie können sich ein Koordinatensystem vorstellen, bei dem der Ursprung $(0,0)$ oben links ist und bei dem jede Zelle die Koordinaten $(i,j)$ hat.\n",
    "\n",
    "#### 4.1.1. Leere Welt\n",
    "\n",
    "Eine leere Welt kann mit einer \"Nullermatrix\" abgebildet werden, einem zweidimensionalen Array, der ausschliesslich Nullen enthält (wie im Bild oben). \n",
    "\n",
    "NumPy stellt Ihnen die Funktion [`zeros(shape, dtype=float, order='C', *, like=None)`](https://numpy.org/devdocs/reference/generated/numpy.zeros.html) zur Verfügung, um eine solche \"Nullermatrix\" zu erstellen. Was Sie hier interessiert, sind die Argumente `shape` und `dtype`:\n",
    "* `shape` \n",
    "    * kann ein Integer sein (dann haben Sie einen Nuller-Array mit der Länge *shape*), \n",
    "    * oder ein Tupel *(Anzahl Zeilen, Anzahl Spalten)* oder wenn Sie wollen *(Höhe, Breite)*, für einen zweidimensionalen Array.\n",
    "* `dtype` interessiert Sie, weil Matrizen standardmässig Elemente des Datentyps float enthalten, Sie aber Ihre Welt in Integern (Ganzzahlen: 0,1) abbilden wollen.\n",
    "\n",
    "##### Beispiel\n",
    "\n",
    "In der folgenden Zelle wird \n",
    "* ein Nullerarray namens `zero_array` von der Länge 5 und \n",
    "* eine Nullermatrix namens `zero_matrix` von der Dimension 10x15 (10 Zeilen, 15 Spalten)\n",
    "erstellt.\n",
    "\n",
    "Dazu, Sie erinnern sich, muss zuerst die Bibliothek NumPy importiert werden."
   ]
  },
  {
   "cell_type": "code",
   "execution_count": null,
   "metadata": {},
   "outputs": [],
   "source": [
    "import numpy as np\n",
    "\n",
    "# Nullerarray\n",
    "zero_array = np.zeros(5, int)\n",
    "print(\"zero_array:\\n\", zero_array)\n",
    "\n",
    "# Nullermatrix\n",
    "zero_matrix = np.zeros((10,15), int)\n",
    "print(\"zero_matrix:\\n\", zero_matrix)"
   ]
  },
  {
   "cell_type": "markdown",
   "metadata": {},
   "source": [
    "Zum Vergleich noch dasselbe mit Listen:\n",
    "* eine Liste namens `zero_list` von der Länge 5, die ausschliesslich Nullen enthält\n",
    "* eine zweidimensionale Liste namens `zero_list_2d` von der Dimension 10x15 (10 Zeilen, 15 Spalten), die ausschliesslich Nullen enthält."
   ]
  },
  {
   "cell_type": "code",
   "execution_count": null,
   "metadata": {},
   "outputs": [],
   "source": [
    "# Zum Vergleich: Listen\n",
    "zero_list = [0 for x in range(5)]\n",
    "print(\"zero_list:\\n\", zero_list)\n",
    "\n",
    "zero_list_2d = [[0 for x in range(15)] for y in range(10)]\n",
    "print(\"zero_list_2d:\\n\", zero_list_2d)"
   ]
  },
  {
   "cell_type": "markdown",
   "metadata": {},
   "source": [
    "Da die `print()`-Funktion zweidimensionale Listen nicht im gleich lesbaren Format ausgibt wie NumPy-Arrays, hier noch eine Ausgabe ohne print-Funktion:"
   ]
  },
  {
   "cell_type": "code",
   "execution_count": null,
   "metadata": {},
   "outputs": [],
   "source": [
    "zero_list_2d"
   ]
  },
  {
   "cell_type": "markdown",
   "metadata": {},
   "source": [
    "*Erläuterungen*\n",
    "* Ein **Array** ist eindimensional. Um einen Array zu erstellen, müssen Sie nur eine Länge angeben.  \n",
    "  `zero_array = np.zeros(5, int)` erstellt Ihnen einen Array der Länge 5, in dem jedes Element den Wert 0 (vom Typ Integer) hat.\n",
    "* Eine **Matrix** ist zweidimensional. Um eine Matrix zu erstellen, müssen Sie ein Tupel (Höhe, Breite) angeben\n",
    "  `zero_matrix = np.zeros((10,15), int)` erstellt Ihnen eine Matrix der Höhe 10 und Breite 15, in der jedes Element den Wert 0 (vom Typ Integer) hat."
   ]
  },
  {
   "cell_type": "markdown",
   "metadata": {},
   "source": [
    "#### 4.1.2. Aufgabe 1 – Konstellationen (Muster) einsetzen\n",
    "\n",
    "Sie erinnern sich an das Bild, das Sie in Aufgabe 3 des [Jupyter Notebooks Listen und Arrays](./listen-und-arrays-loesungen.ipynb) als zweidimensionalen NumPy-Array codiert haben.\n",
    "<img src=\"images/aufgabe3.png\" alt=\"aufgabe3\" width=\"12.5%\"/>\n",
    "\n",
    "Kopieren Sie nun Ihren Code und geben Sie dem zweidimensionalen NumPy-Array den Namen `liegendes_herz`."
   ]
  },
  {
   "cell_type": "code",
   "execution_count": null,
   "metadata": {},
   "outputs": [],
   "source": [
    "# Ihr Code..."
   ]
  },
  {
   "cell_type": "markdown",
   "metadata": {},
   "source": [
    "Dieses Bild lässt sich nun mit Hilfe des **Teilbereichsoperators** in die leere Welt (`zero_matrix`) einsetzen, indem der entsprechende Teilbereich ausgelesen und durch `liegendes_herz` ersetzt wird.\n",
    "\n",
    "Das liegende Herz soll nun ab der 4. Spalte und der 2. Zeile eingesetzt werden:"
   ]
  },
  {
   "cell_type": "code",
   "execution_count": null,
   "metadata": {},
   "outputs": [],
   "source": [
    "zero_matrix[1:7, 3:9] = liegendes_herz\n",
    "print(zero_matrix)"
   ]
  },
  {
   "cell_type": "markdown",
   "metadata": {},
   "source": [
    "*Erläuterungen*\n",
    "\n",
    "`zero_matrix[1:7, 3:9] = liegendes_herz` bedeutet, wir fügen die Matrix `liegendes_herz` in die leere Welt (`zero_matrix`) ein und zwar ersetzen wir dazu den Bereich vom 3. Element der 1. Zeile bis und *ohne* das 9. Element der 7. Zeile (also bis und mit 8. Element der 6. Zeile). Die Endindizes sind jeweils nicht im Bereich enthalten (Sie erinnern sich an den Teilbereichsoperator).\n",
    "\n",
    "<img src=\"images/teilbereich_zero_matrix.png\" alt=\"teilbereich_zero_matrix\" width=\"70%\"/>"
   ]
  },
  {
   "cell_type": "markdown",
   "metadata": {},
   "source": [
    "#### 4.1.3. Welt\n",
    "\n",
    "Da die Welt nun einen Inhalt hat, ist der Name `zero_matrix` nicht mehr passend.\n",
    "\n",
    "Dies können Sie ändern, indem Sie `zero_matrix` in eine neue Matrix namens `world` kopieren. Dazu können Sie die NumPy-Funktion `copy()` nutzen."
   ]
  },
  {
   "cell_type": "code",
   "execution_count": null,
   "metadata": {},
   "outputs": [],
   "source": [
    "world = np.copy(zero_matrix)\n",
    "print(world)"
   ]
  },
  {
   "cell_type": "markdown",
   "metadata": {},
   "source": [
    "### 4.2. Visualisierung der Welt\n",
    "\n",
    "Da Ihr zweidimensionaler Array nur Einsen und Nullen enthält, sehen Sie mit der Printfunktion schon recht gut, was der Inhalt ist.\n",
    "\n",
    "Ohne Printfunktion ist dies etwas weniger gut sichtbar:"
   ]
  },
  {
   "cell_type": "code",
   "execution_count": null,
   "metadata": {},
   "outputs": [],
   "source": [
    "print(\"mit print:\\n\", world)\n",
    "print(\"ohne print:\")\n",
    "world"
   ]
  },
  {
   "cell_type": "markdown",
   "metadata": {},
   "source": [
    "Nun wäre es natürlich schön, wenn Sie die Welt graphisch darstellen (visualisieren) könnten.\n",
    "\n",
    "Dazu können Sie Teile der Bibliothek Matplotlib nutzen, die Visualisierungsmöglichkeiten bietet. \n",
    "\n",
    "***Plots*** können Diagramme oder grafische Darstellungen sein. Aus dem Mathematikunterricht kennen Sie wahrscheinlich Funktionsplots auf dem Grafiktaschenrechner. Matplotlib bietet darüber hinaus noch viel mehr Möglichkeiten. Hier verwenden Sie nur das Submodul [`pyplot`](https://matplotlib.org/api/pyplot_summary.html?highlight=pyplot).\n",
    "\n",
    "Importieren Sie also Pyplot und nennen es wie allgemein üblich `plt`:"
   ]
  },
  {
   "cell_type": "code",
   "execution_count": null,
   "metadata": {},
   "outputs": [],
   "source": [
    "import matplotlib.pyplot as plt"
   ]
  },
  {
   "cell_type": "markdown",
   "metadata": {},
   "source": [
    "Die Funktion [`imshow`](https://matplotlib.org/api/_as_gen/matplotlib.pyplot.imshow.html#matplotlib.pyplot.imshow) aus Pyplot erlaubt es, einen Plot darzustellen. Das erste Argument ist ein zweidimensionaler Array. Dieser wird im Raster dargestellt. Das Argument `cmap` steht für das Farbschema (colourmap, cm). `gray` wären Graustufen von Schwarz (0) nach Weiss (1). Da Sie aber Einsen schwarz darstellen wollen, brauchen Sie das invertierte Graufstufenfarbschema `cm.gray_r` (`_r` für reversed).\n",
    "\n",
    "Um den Plot zu erstellen, reicht ein Funktionsaufruf:  \n",
    "Rufen Sie die Funktion `imshow` aus der Pyplot-Bibliothek (die Sie mit `plt` bezeichnen) auf und übergeben Sie ihr als Argument Ihre Welt `world` und das Farbschema. Die Welt ist immer das erste Argument, deshalb braucht es dafür keine Referenz. Da die Funktion aber noch einige andere Argumente akzeptiert, müssen Sie spezifizieren, *welches* Argument Sie meinen (also: **`cmap=`**`plt.cm.gray_r`).\n",
    "\n",
    "Um den Plot korrekt anzuzeigen ist ausserdem der Aufruf der Funktion `plt.show()` nötig. Ohne diesen Aufruf wird der Plot zwar angezeigt, aber Sie bekommen mittels rotgefärbtem \"Out\" links des Outputs den Hinweis, dass noch etwas fehlt."
   ]
  },
  {
   "cell_type": "code",
   "execution_count": null,
   "metadata": {},
   "outputs": [],
   "source": [
    "plt.imshow(world, cmap=plt.cm.gray_r)\n",
    "plt.show()"
   ]
  },
  {
   "cell_type": "markdown",
   "metadata": {},
   "source": [
    "#### 4.2.1. Aufgabe 2 – Farbschemata\n",
    "\n",
    "Experimentieren Sie nun etwas mit dem Aufruf der Funktion `imshow()`, vor allem auch mit dem Farbschema.\n",
    "\n",
    "[Mehr Informationen zu Farbschemata finden Sie in der Dokumentation](https://matplotlib.org/stable/tutorials/colors/colormaps.html)."
   ]
  },
  {
   "cell_type": "code",
   "execution_count": null,
   "metadata": {},
   "outputs": [],
   "source": [
    "# Ihr Code..."
   ]
  },
  {
   "cell_type": "markdown",
   "metadata": {},
   "source": [
    "### 4.3. Dimensionen eines Arrays\n",
    "\n",
    "Um die Dimensionen eines Arrays auszulesen, bietet Ihnen NumPy die Funktion [`shape(a)`](https://numpy.org/devdocs/reference/generated/numpy.shape.html) an. Sie nimmt als Argument einen Array entgegen und gibt einen Tupel von Integern zurück, welcher der Dimension der Matrix entspricht: (*Anzahl Zeilen*, *Anzahl Spalten*) oder wenn Sie wollen (*Höhe*, *Breite*).\n",
    "\n",
    "Sie erinnern sich, ein **Tupel** ist wie eine Liste eine indizierte Sammlung von Werten. Der Zugriff erfolgt also ebenfalls über die Indizes, wobei Sie den Inhalt eines Tupels im Gegensatz zur Liste aber nur lesen und nicht verändern können."
   ]
  },
  {
   "cell_type": "code",
   "execution_count": null,
   "metadata": {},
   "outputs": [],
   "source": [
    "print(zero_array.shape)"
   ]
  },
  {
   "cell_type": "code",
   "execution_count": null,
   "metadata": {},
   "outputs": [],
   "source": [
    "print(world.shape)"
   ]
  },
  {
   "cell_type": "markdown",
   "metadata": {},
   "source": [
    "Wenn Sie die *Höhe* (Anzahl Zeilen) Ihrer Welt bestimmen wollen, können Sie auf das erste Element des Tupels zugreifen:"
   ]
  },
  {
   "cell_type": "code",
   "execution_count": null,
   "metadata": {},
   "outputs": [],
   "source": [
    "height = world.shape[0]\n",
    "print(height)"
   ]
  },
  {
   "cell_type": "markdown",
   "metadata": {},
   "source": [
    "#### 4.3.1. Aufgabe 3 – Breite bestimmen\n",
    "\n",
    "Speichern Sie die *Breite* (Anzahl Spalten) Ihrer Welt-Matrix in die Variable `height`."
   ]
  },
  {
   "cell_type": "code",
   "execution_count": null,
   "metadata": {},
   "outputs": [],
   "source": [
    "# Ihr Code..."
   ]
  },
  {
   "cell_type": "markdown",
   "metadata": {},
   "source": [
    "#### 4.3.2. Iteration über einen zweidimensionalen Array\n",
    "\n",
    "Um eine neue Generation zu berechnen, werden die Regeln auf alle Zellen angewandt.\n",
    "\n",
    "Dazu müssen Sie über alle Zellen iterieren (also alle Zellen *durchgehen*). Bisher kennen Sie für eine for-Schlaufe einen Index und einen Bereich: `for i in range(start, ende)`. \n",
    "\n",
    "Hier hat jede Zelle die Koordinaten `(i,j)`. Das ist ein Tupel. (Sie erkennen den Tupel an den runden Klammern und erinnern sich, dass die Elemente eines Tupels  nur gelesen und nicht überschrieben werden können). Um nun mit der Schleife alle Zellen Ihrer Welt (dem zweidimensionalen Array) zu durchlaufen, nehmen Sie als Index den Tupel `(i,j)`, das Koordinatenpaar. Die Schleife geht so über alle Koordinatenpaare, welche die Zellen Ihrer Welt repräsentieren.\n",
    "\n",
    "NumPy bietet die Funktion [`np.ndindex(shape)`](https://numpy.org/devdocs/reference/generated/numpy.ndindex.html) die alle möglichen Koordinatenpaare $(i,j)$ liefert, die in einer Matrix mit gegebener Dimension `shape` enthalten sind. (Der Name ndindex steht für n-dimensionale Indizes.)\n",
    "\n",
    "Um dies besser zu verstehen, machen Sie sich eine kleine 3x2-Matrix, geben sie und ihre Dimension aus. Anschliessend durchlaufen Sie diese Indizes in einer Schleife. Dabei geben Sie bei jedem Schritt den Index aus und sehen, dass tatsächlich alle Koordninatenpaare von (0,0) bis (2,1) herauskommen:"
   ]
  },
  {
   "cell_type": "code",
   "execution_count": null,
   "metadata": {},
   "outputs": [],
   "source": [
    "# 3x2-Nullermatrix erstellen\n",
    "my_matrix = np.zeros((3,2), int)\n",
    "print(my_matrix)"
   ]
  },
  {
   "cell_type": "code",
   "execution_count": null,
   "metadata": {},
   "outputs": [],
   "source": [
    "# Dimension\n",
    "dimension = my_matrix.shape\n",
    "print(dimension)"
   ]
  },
  {
   "cell_type": "code",
   "execution_count": null,
   "metadata": {},
   "outputs": [],
   "source": [
    "# Indizes\n",
    "for index in np.ndindex(dimension): \n",
    "    print(index)"
   ]
  },
  {
   "cell_type": "markdown",
   "metadata": {},
   "source": [
    "Sie sehen, die Koordinatenpaare, die Sie bekommen, wenn Sie mit einer for-Schleife über die Indizes iterieren, sind Tupel."
   ]
  },
  {
   "cell_type": "markdown",
   "metadata": {},
   "source": [
    "### 4.4. Code\n",
    "\n",
    "Nun sind Sie bereit, den ganzen Code in Angriff zu nehmen. Dieser besteht aus lediglich zwei Funktionen: \n",
    "* `iterate`, berechnet die nächste Generation.  \n",
    "   Sie nimmt die Welt (mit allen Zellen) entgegen, berechnet für jede Zelle den neuen Zustand und speichert die neue Generation in der Welt.\n",
    "* `display_world`, zeigt die Welt über die gewünschte Anzahl Generationen an.\n",
    "\n",
    "#### 4.4.1. Berechnung der nächsten Generation – Funktion `iterate`\n",
    "\n",
    "Die Funktion `iterate`, berechnet den neuen Zustand für *alle* Zellen, indem sie über alle Zellen iteriert.\n",
    "\n",
    "Sie berechnet für jede Zelle den neuen Status in Abhängigkeit ihres Status und der Stati ihrer Nachbarn. \n",
    "\n",
    "Die Regeln des Game of Life, die Sie unter 3.2. gesehen haben, lassen sich formal beschreiben:\n",
    "\n",
    "* Zelle lebt (Status ist 1) **und**\n",
    "    * Anzahl lebender Nachbarn $\\in$ {2,3} $\\Rightarrow$ Zelle überlebt\n",
    "    * Anzahl lebender Nachbarn $\\not \\in$ {2,3} $\\Rightarrow$ Zelle stirbt (neuer Status: 0)\n",
    "* Zelle lebt nicht (Status ist 0) **und**\n",
    "    * Anzahl lebender Nachbarn $=$ 3 $\\Rightarrow$ Zelle wird geboren (neuer Status: 1)\n",
    "    * Anzahl lebender Nachbarn $\\neq$ 3 $\\Rightarrow$ Zelle bleibt tot\n",
    "\n",
    "Oder noch etwas formaler, mit $S_{Zelle}(t)$ für den Zustand (Status) der Zelle zum Zeitpunkt $t$ und $S_{Nachbar_i}(t)$ für den Zustand der $i$-ten Nachbarzelle zum Zeitpunkt $t$:\n",
    "\n",
    "lebende Zellen:\n",
    "* $S_{Zelle}(t) = 1$ **$und$**\n",
    "    * $\\sum_{i=1}^{8}{(S_{Nachbar_i}(t)=1)} \\in \\{2,3\\} \\Rightarrow S_{Zelle}(t+1) = S_{Zelle}(t)$  \n",
    "\n",
    "    * $\\sum_{i=1}^{8}{(S_{Nachbar_i}(t)=1)} \\not \\in \\{2,3\\} \\Rightarrow S_{Zelle}(t+1) = 0$  \n",
    "    \n",
    "tote Zellen:\n",
    "* $S_{Zelle}(t) = 0$ **$und$**\n",
    "    * $\\sum_{i=1}^{8}{(S_{Nachbar_i}(t)=1)} = 3 \\Rightarrow S_{Zelle}(t+1) = 1$\n",
    "    * $\\sum_{i=1}^{8}{(S_{Nachbar_i}(t)=1)} \\neq 3 \\Rightarrow S_{Zelle}(t+1) = S_{Zelle}(t)$  \n",
    "    \n",
    "Die Funktion `iterate` berechnet jeweils die nächste Generation einer Welt, indem für jede Zelle $(i,j)$ aufgrund ihres Zustands und der Anzahl lebender Nachbarn ihr neuer Zustand berechnet wird."
   ]
  },
  {
   "cell_type": "code",
   "execution_count": null,
   "metadata": {},
   "outputs": [],
   "source": [
    "import numpy as np\n",
    "\n",
    "def iterate(world): # Was ist das Argument/der Parameter der Funktion iterate?\n",
    "        \n",
    "    # Kopie des Ausgangszustands machen\n",
    "    old_world = np.copy(world)\n",
    "    \n",
    "    # Höhe und Breite der Welt bestimmen\n",
    "    height = world.shape[0]\n",
    "    width = world.shape[1]\n",
    "    \n",
    "    \n",
    "    # Über alle Zellen iterieren\n",
    "    for (i,j) in np.ndindex((height, width)): # oder np.ndindex(world.shape)\n",
    "        \n",
    "        ########################################################################\n",
    "        # Berechnung der Anzahl der lebenden Nachbarn (neighbours_alive)       #\n",
    "        ########################################################################\n",
    "        \n",
    "        # Für den Moment definieren Sie, dass Zellen am Rand nie lebende Nachbarn haben.\n",
    "        if i==0 or j==0 or i==height-1 or j==width-1: \n",
    "            neighbours_alive = 0\n",
    "            \n",
    "        # Für alle anderen Zellen berechnen Sie die Anzahl lebender Nachbarn.\n",
    "        # Wie kommen Sie zu dieser Summe?\n",
    "        # Sie sind ja gerade bei der Zelle (i,j): old_world[i,j]. \n",
    "        # Lebende Zellen haben alle den Wert 1, tote Zellen haben den Wert 0. \n",
    "        # Deshalb können Sie die Werte der Nachbarzellen aufaddieren, \n",
    "        # dann wissen Sie, wieviele lebende Nachbarn die Zelle hat. Damit nicht alle \n",
    "        # Zellen einzeln angesprochen werden müssen, ermitteln Sie hier die \n",
    "        # Summe des ganzen Quadrats mit der Zelle (i,j) im Mittelpunkt, also \n",
    "        # von der Zelle (i-1,j-1) bis zur Zelle (i+1,j+1) (im Code +2 weil der \n",
    "        # zweite Wert des Teilbereichsoperators exklusiv (also nicht im\n",
    "        # Teilbereich enthalten) ist. Am Ende ziehen Sie den Wert der Zelle \n",
    "        # (i,j) ab, dann haben Sie die Anzahl der lebenden Nachbarn.\n",
    "        else: \n",
    "            neighbours_alive = np.sum(old_world[i-1:i+2, j-1:j+2]) - old_world[i, j]\n",
    "            \n",
    "        ########################################################################\n",
    "        # Berechnung des neuen Zustands der Zelle (state)                      #\n",
    "        ########################################################################\n",
    "\n",
    "        state = old_world[i,j]\n",
    "        \n",
    "        # Anwendung der Regeln\n",
    "        if(state == 1 and (neighbours_alive < 2 or neighbours_alive > 3)):\n",
    "            new_state = 0\n",
    "        elif(state == 0 and neighbours_alive == 3):    \n",
    "            new_state = 1\n",
    "        else:\n",
    "            new_state = state\n",
    "    \n",
    "        world[i,j] = new_state"
   ]
  },
  {
   "cell_type": "markdown",
   "metadata": {},
   "source": [
    "#### 4.4.2. Visualisierung – Funktion `display_world`\n",
    "\n",
    "Für die Visualisierung werden folgende Bibliotheken benötigt:\n",
    "* __Pyplot__ erlaubt das Erstellen von Plots (graphischen Darstellungen)\n",
    "* __display von IPython__ erlaubt einen grafischen Output einer Zelle des Jupyter Notebooks;  \n",
    "  IPython ist die Bibliothek, die dem Jupyter Notebook zugrundeliegt.\n",
    "* __time__ brauchen Sie für die Ticks, zur Berechnung der Generationen.  \n",
    "  Beachten Sie: \n",
    "  * ***Ticks*** stehen für den *Takt, in dem die Generationen berechnet werden* und \n",
    "  * sind *nicht zu verwechseln mit Generationen*."
   ]
  },
  {
   "cell_type": "code",
   "execution_count": null,
   "metadata": {},
   "outputs": [],
   "source": [
    "import matplotlib.pyplot as plt\n",
    "from IPython import display\n",
    "import time\n",
    "\n",
    "def display_world(world, number_of_iterations):\n",
    "    \"\"\"Display the evolution of world for \n",
    "    the next number_of_iterations\"\"\"\n",
    "    for i in range(number_of_iterations):\n",
    "        \n",
    "        # Den Output der aktuellen Zelle (des Jupyter Notebooks) löschen\n",
    "        # parameter wait: Soll gewartet werden, bis der neue Output bereitsteht?\n",
    "        display.clear_output(wait=True)\n",
    "        \n",
    "        # Beschriftung der x- und y-Achsen\n",
    "        plt.xticks([]), plt.yticks([])\n",
    "        \n",
    "        # Welt anzeigen\n",
    "        plt.imshow(world, cmap=plt.cm.gray_r)\n",
    "        \n",
    "        # Plot anzeigen\n",
    "        plt.show()\n",
    "        \n",
    "        # Die nächste Generation berechnen (Aufruf der oben definierten Funktion)\n",
    "        iterate(world)\n",
    "        \n",
    "        # warten\n",
    "        time.sleep(0.4)"
   ]
  },
  {
   "cell_type": "markdown",
   "metadata": {},
   "source": [
    "#### 4.4.3. Code verstehen\n",
    "\n",
    "Wie Sie oben gesehen haben, besteht der Code des Game of Life aus zwei Teilen:\n",
    "* Die Funktion `iterate` ermittelt die neue Generation ausgehend von der aktuellen Generation. \n",
    "* Die Funktion `display_world` kümmert sich um die Visualisierung."
   ]
  },
  {
   "cell_type": "markdown",
   "metadata": {},
   "source": [
    "##### 4.4.3.1. Aufgabe 4 – Funktionen `iterate` und `display_world`\n",
    "\n",
    "Welche Argumente müssen Sie den Funktionen `iterate` und `display_world` übergeben?\n",
    "\n",
    "*Ihre Antwort:  \n",
    "Schreiben Sie die Antwort direkt hier in diese Zelle.*\n",
    "\n",
    "\n",
    "*__Lösung__:\n",
    "Wenn Sie wissen wollen, was sich hinter einem Bezeichner verbirgt (welchen Inhalt er an einer gewissen Stelle hat), also ***was*** etwas ***ist***, können Sie jederzeit die `print()`-Funktion verwenden, um den Inhalt auszugeben.*\n",
    "\n",
    "```Python\n",
    "print(\"world:\")\n",
    "print(world)\n",
    "```\n",
    "    \n",
    "Funktionen: \n",
    "* `iterate(world)`  \n",
    "  _Sie rufen diese Funktion nicht direkt auf, denn sie wird von der Funktion `display_world` aufgerufen._\n",
    "* `display_world(world, number_of_iterations)`\n",
    "\n",
    "Argumente:  \n",
    "* `world` ist ein zweidimensionaler Array, der die **Welt** repräsentiert, also das Raster mit allen Zellen.\n",
    "* `number_of_iterations` ist die Anzahl der Berechnungen und Darstellung der neuen Welt,  \n",
    "  also die **Anzahl Generationen**, die berechnet und dargestellt werden sollen bzw. die ***Dauer, über die simuliert wird***."
   ]
  },
  {
   "cell_type": "markdown",
   "metadata": {},
   "source": [
    "##### 4.4.3.2. Strategien\n",
    "Den Code haben Sie zwar nicht selbst geschrieben, Sie können ihn aber verstehen. Einige der im Code verwendeten Funktionen haben Sie anhand dieses Notebooks kennengelernt. Um eine Bibliothek zu nutzen, müssen Sie diese nicht auswendig lernen. Sie haben gesehen, dass Ihnen die **Dokumentation** einer Bibliothek zur Verfügung steht und eine gute Quelle ist, wenn Sie Code verstehen oder auch weiterentwickeln möchten. \n",
    "\n",
    "Weitere Möglichkeiten bestehen darin, **einzelne Zeilen auszukommentieren** und zu beobachten, was geschieht, wenn sie nicht ausgeführt werden oder **bei Funktionsaufrufen** mit den **Parametern** zu experimentieren.\n",
    "\n",
    "Betrachten Sie nun die Funktion `display_world` (den Code unter 4.4.2)."
   ]
  },
  {
   "cell_type": "markdown",
   "metadata": {},
   "source": [
    "##### 4.4.3.3. Aufgabe 5  – Beschriftungen der x- und y-Achsen\n",
    "\n",
    "Betrachten Sie nun die Zeile 15 des Codes unter 4.4.2:\n",
    "`plt.xticks([]), plt.yticks([])`\n",
    "\n",
    "Die Funktionen `xticks` und `yticks` definieren die Beschriftungen der x- und and y-Achsen.\n",
    "\n",
    "Versuchen Sie herauszufinden, wie die Achsen beschriftet werden.  \n",
    "\n",
    "*Hinweis:*  \n",
    "Schreiben Sie Zahlen in die Arrays, z.B. `plt.xticks([5]), plt.yticks([1,2]))`, um zu sehen, was die Argumente der Funktionen `xticks` und `yticks` bewirken. Warum werden den beiden Funktionen in Zeile 15: `plt.xticks([]), plt.yticks([])` wohl leere Arrays übergeben?\n",
    "\n",
    "*Ihre Antwort:  \n",
    "Schreiben Sie die Antwort direkt hier in diese Zelle.*\n",
    "\n",
    "*__Lösung__:  \n",
    "Die Werte in den Arrays, die den Funktionen `xticks` und `yticks` übergeben werden, werden mit Ticks (kleinen Strichlein) als Achsenbeschriftungen verwendet.  \n",
    "Hier sind keine Achsenbeschriftungen gewünscht. Deshalb werden den Funktionen `xticks` und `yticks` leere Arrays übergeben. Dies entspricht einer Deaktivierung der Achsenbeschriftung. Standardmässig werden die Achsen beschriftet. Um zu sehen, wie es aussieht, wenn Achsen standardmässig beschriftet werden, können Sie die **Zeile auskommentieren**. Sie können den Funktionen aber auch Arrays mit einzelnen Werten übergeben, um zu sehen, wie sich die Parameter der Funktion auswirken.*\n",
    "\n",
    "*Ein weiteres Beispiel (Zusatz):*  \n",
    "Was würde `plt.xticks(np.arange(10,21, step=5))` bewirken?  \n",
    "(Dokumentation von [pyplot.x-ticks](https://matplotlib.org/stable/api/_as_gen/matplotlib.pyplot.xticks.html) und [numpy.arange](https://numpy.org/doc/stable/reference/generated/numpy.arange.html)).\n",
    "\n",
    "*__Lösung__:\n",
    "`plt.xticks(np.arange(10,21, step=5))` würde jeden 5. Tick auf der x-Achse, vom 10. bis und ohne 21. Element markieren.*\n"
   ]
  },
  {
   "cell_type": "markdown",
   "metadata": {},
   "source": [
    "##### 4.4.3.4. Aufgabe 6 – Funktion `imshow`\n",
    "\n",
    "Betrachten Sie nun die Zeile 18 des Codes unter 4.4.2.: `plt.imshow(world, cmap=plt.cm.gray_r)`\n",
    "\n",
    "Kommt Ihnen diese Zeile bekannt vor? Was macht diese Zeile?\n",
    "\n",
    "*Ihre Antwort:  \n",
    "Schreiben Sie die Antwort direkt hier in diese Zelle.*\n",
    "\n",
    "*__Lösung__:  \n",
    "Das ist der Plot (also die graphische Darstellung oder Visualisierung) der Welt, die Sie unter 4.2. \"Visualisierung der Welt\" gesehen haben.  \n",
    "__Kommentieren Sie diese Zeile aus, so sehen Sie einen leeren Plot__.*"
   ]
  },
  {
   "cell_type": "markdown",
   "metadata": {},
   "source": [
    "##### 4.4.3.5. Aufgabe 7 – Plot anzeigen\n",
    "\n",
    "Was passiert, wenn die Zeile 21 des Codes unter 4.4.2 `plt.show()` gelöscht wird? \n",
    "\n",
    "Probieren Sie es aus. Kommentieren Sie die Zeile aus anstatt sie zu löschen.\n",
    "\n",
    "*Ihre Antwort:  \n",
    "Schreiben Sie die Antwort direkt hier in diese Zelle.*\n",
    "\n",
    "*__Lösung__:  \n",
    "Wenn Sie diese Zeile auskommentieren, sehen Sie nur den Plot der letzten berechneten Generation.\n",
    "Nachdem mit `imshow` ein Bild erstellt wurde, muss es noch mit Hilfe von `show` angezeigt werden.*"
   ]
  },
  {
   "cell_type": "markdown",
   "metadata": {},
   "source": [
    "##### 4.4.3.6. Aufgabe 8 – sleep\n",
    "\n",
    "Wozu brauchen Sie den Aufruf der Sleep-Funktion `time.sleep(0.1)`?  \n",
    "Was ändert sich, wenn Sie den Parameter ändern?\n",
    "\n",
    "*Ihre Antwort:  \n",
    "Schreiben Sie die Antwort direkt hier in diese Zelle.*\n",
    "\n",
    "*__Lösung__:  \n",
    "Hier wird kurz gewartet. Was Sie hier hineinschreiben, ist die **Ticklänge** (in Sekunden), in deren Abständen die neuen Generationen berechnet und angezeigt werden. Ohne wait läuft die ganze Simulation sehr schnell ab. Dies kann erwünscht sein, aber Sie wählen hier eine etwas grössere Ticklänge, die es Ihnen erlaubt, die Simulation gut beobachten zu können.*"
   ]
  },
  {
   "cell_type": "markdown",
   "metadata": {},
   "source": [
    "## 4.5. Code weiterentwickeln\n",
    "\n",
    "Nun möchten Sie die Funktion `display_world` noch etwas weiterentwickeln. Wenn Sie die nachfolgende Zelle ausführen, überschreiben Sie damit die oben definierte Funktion."
   ]
  },
  {
   "cell_type": "code",
   "execution_count": null,
   "metadata": {},
   "outputs": [],
   "source": [
    "# Ergänzen Sie Ihre Weiterentwicklungen...\n",
    "\n",
    "import matplotlib.pyplot as plt\n",
    "from IPython import display\n",
    "import time\n",
    "\n",
    "def display_world(world, number_of_iterations):\n",
    "    \"\"\"Display the evolution of world for \n",
    "    the next number_of_iterations\"\"\"\n",
    "    for i in range(number_of_iterations):\n",
    "        \n",
    "        # Den Output der aktuellen Zelle (des Jupyter Notebooks) löschen\n",
    "        # parameter wait: Soll gewartet werden, bis der neue Output bereitsteht?\n",
    "        display.clear_output(wait=True)\n",
    "                \n",
    "        # Beschriftung der x- und y-Achsen\n",
    "        plt.xticks([]), plt.yticks([])\n",
    "        \n",
    "        # Welt anzeigen\n",
    "        plt.imshow(world, cmap=plt.cm.gray_r)\n",
    "        \n",
    "        # Plot anzeigen\n",
    "        plt.show()\n",
    "        \n",
    "        # Die nächste Generation berechnen (Aufruf der oben definierten Funktion)\n",
    "        iterate(world) # --> Nach dem Zeichnen wird Iterate aufgerufen, aber was ist mit der letzten berechneten Generation? Die wird nicht mehr angezeigt. \n",
    "        \n",
    "        # warten\n",
    "        time.sleep(0.4)"
   ]
  },
  {
   "cell_type": "markdown",
   "metadata": {},
   "source": [
    "### 4.5.1. Aufgabe 9 – Geschwindigkeit steuern\n",
    "\n",
    "Sie wollen nun beim Aufruf von `display_world` definieren können, wie schnell die neuen Generationen angezeigt werden. Führen Sie für die Ticklänge einen Parameter `tick_length` ein, welcher der Funktion `display_world` übergeben wird und verwenden Sie ihn in der Funktion.\n",
    "\n",
    "Ergänzen Sie die Funktion `display_world` um den Parameter `tick_length` und geben Sie dem Parameter einen Defaultwert, damit der neue Parameter optional bleibt und Sie die Funktion wie gewohnt weiterverwenden können.\n",
    "\n",
    "*Lösung: im Code unter 4.5, Zeilen 5 und 33.*"
   ]
  },
  {
   "cell_type": "markdown",
   "metadata": {},
   "source": [
    "### 4.5.2. Aufgabe 10 – Generation anzeigen\n",
    "\n",
    "Zuerst möchten Sie die aktuelle Generation anzeigen. Es gibt eine Pyplot-Funktion, um einen Titel auszugeben. Nutzen Sie die [Pyplot-Dokumentation](https://matplotlib.org/api/_as_gen/matplotlib.pyplot.html) um herauszufinden, wie Sie für den Plot einen Titel anzeigen können und zeigen Sie als Titel die aktuelle Generation an.  \n",
    "\n",
    "Beispieltitel: Generation: 1\n",
    "\n",
    "Ergänzen Sie die Funktion `display_world` weiter unten um die entsprechende Zeile.\n",
    "\n",
    "*Lösung: im Code unter 4.5, Zeile 20.*"
   ]
  },
  {
   "cell_type": "markdown",
   "metadata": {},
   "source": [
    "### 4.6. Konstellationen\n",
    "\n",
    "Um die Simulation laufen zu lassen, brauchen Sie Welten, auf die Sie Ihre Simulation anwenden können."
   ]
  },
  {
   "cell_type": "markdown",
   "metadata": {},
   "source": [
    "Im Internet finden Sie viele Konstellationen. Es gibt Communitys, die fasziniert sind vom Game of Life und immer neue Konstellationen suchen, die sich interessant verhalten. Eine riesige Sammlung finden Sie im [Game of Life-Wiki](https://www.conwaylife.com/wiki/Main_Page). Auf [Wikipedia](https://de.wikipedia.org/wiki/Conways_Spiel_des_Lebens) finden Sie einfache, klassische Konstellationen.\n",
    "\n",
    "[julienmesselier auf GitHub](https://github.com/julienmesselier/game-of-life), auf dessen Code diese Implementation basiert, hat die nachfolgenden Konstellationen umgesetzt."
   ]
  },
  {
   "cell_type": "markdown",
   "metadata": {},
   "source": [
    "Nehmen Sie für den Anfang die Welt `world`, eine Kopie der Nullermatrix `zero_matrix`, in die Sie das Bild mit dem liegenden Herzen eingefügt haben."
   ]
  },
  {
   "cell_type": "code",
   "execution_count": null,
   "metadata": {
    "scrolled": false
   },
   "outputs": [],
   "source": [
    "display_world(world, number_of_iterations=10)"
   ]
  },
  {
   "cell_type": "code",
   "execution_count": null,
   "metadata": {},
   "outputs": [],
   "source": [
    "world"
   ]
  },
  {
   "cell_type": "markdown",
   "metadata": {},
   "source": [
    "#### 4.6.1. Zufällige Welt\n",
    "\n",
    "Random von NumPy bietet mit der Funktion [`random.randint(low, high=None, size=None, dtype=int)`](https://numpy.org/doc/stable/reference/random/generated/numpy.random.randint.html) auch die Möglichkeit, einen Array mit zufälligen *Integer*-Werten zu erstellen.\n",
    "Von den möglichen Werten ist dabei low der untere Rand (inklusiv) und high der obere (exklusiv). Um Werte von 0 bis 1 zu erhalten, übergeben Sie der Funktion `randint` 0 für `low` und 2 für `high`.\n",
    "\n",
    "Eine zufällige 15x30-Welt mit Nullen und Einsen erstellen Sie folgendermassen:"
   ]
  },
  {
   "cell_type": "code",
   "execution_count": null,
   "metadata": {},
   "outputs": [],
   "source": [
    "random_world = np.random.randint(0,2,(15,30))\n",
    "\n",
    "print(random_world)"
   ]
  },
  {
   "cell_type": "code",
   "execution_count": null,
   "metadata": {},
   "outputs": [],
   "source": [
    "display_world(random_world, number_of_iterations=25)"
   ]
  },
  {
   "cell_type": "markdown",
   "metadata": {},
   "source": [
    "##### 4.6.1.1.  Aufgabe 11 (freiwillig)\n",
    "Sie wollen der Funktion `display_world` eine neue, zufällige Welt der Dimension 20x40 übergeben und die Iteration über die ersten 5 Generationen beobachten. Schreiben Sie den Funktionsaufruf.\n",
    "\n",
    "*__Lösung__:    \n",
    "Wenn Sie die Funktion `display_world` direkt mit einer zufälligen Welt der Dimension 20x40 aufrufen wollen, können Sie den entsprechenden zweidimensionalen Array gleich im Funktionsaufruf erstellen: `display_world(np.random.randint(0,2,(20,40)), 5)`*"
   ]
  },
  {
   "cell_type": "code",
   "execution_count": null,
   "metadata": {},
   "outputs": [],
   "source": [
    "display_world(np.random.randint(0,2,(20,40)), 5)"
   ]
  },
  {
   "cell_type": "markdown",
   "metadata": {},
   "source": [
    "#### 4.6.2. Raumschiffe: Gleiter (Glider)\n",
    "\n",
    "Raumschiffe sind (zumeist oszillierende) Objekte, die eine feste Richtung verfolgen (Wikipedia).\n",
    "\n",
    "Beim Beispiel mit den Generationen und den Ticks auf der Zeitachse haben Sie vielleicht bemerkt, dass sich das Muster wiederholt (oszilliert)."
   ]
  },
  {
   "cell_type": "code",
   "execution_count": null,
   "metadata": {
    "scrolled": true
   },
   "outputs": [],
   "source": [
    "# Neue Welt mit der Dimension 20x20 erstellen\n",
    "world_glider = np.zeros((20,20), int)\n",
    "\n",
    "# Element (hier den Gleiter) definieren\n",
    "glider = np.array([[1, 0, 1],\n",
    "                   [0, 1, 1],\n",
    "                   [0, 1, 0]])\n",
    "\n",
    "# Den Gleiter in die Welt einpflanzen \n",
    "world_glider[1:1+3,1:1+3] = glider\n",
    "\n",
    "# Animation über 51 Iterationen anzeigen\n",
    "display_world(world_glider, 100)"
   ]
  },
  {
   "cell_type": "markdown",
   "metadata": {},
   "source": [
    "*Hinweise:*  \n",
    "Die Beispiele 4.6.2, 4.6.3, 4.6.5 und 4.6.6 wurden direkt von Github übernommen und bedürfen kleinen Erklärungen.\n",
    "\n",
    "* Zeile 10: `world_glider[1:1+3,1:1+3] = glider`  \n",
    "  Der Programmierer oder die Programmiererin hat hier darauf verzichtet, die Endkoordinaten des Teilbereichs auszurechnen, das ist auch eine Möglichkeit, den Teilbereichsoperator zu nutzen.  \n",
    "  Sie könnten auch die Dimension aus Ihrem Array holen und die Höhe und Breite zu den Anfangsindizes addieren. Es gibt immer viele mögliche Lösungen.  \n",
    "  _Dasselbe gilt für 4.6.3 (Zeile 12), 4.6.5 (Zeile 5) und 4.6.6 (Zeile 4)._"
   ]
  },
  {
   "cell_type": "markdown",
   "metadata": {},
   "source": [
    "#### 4.6.3.  Gleiterkanone\n",
    "\n",
    "Es gibt auch eine Gleiterkanone, die alle 15 Generationen einen neuen Gleiter produziert."
   ]
  },
  {
   "cell_type": "code",
   "execution_count": null,
   "metadata": {},
   "outputs": [],
   "source": [
    "world_gosper = np.zeros((70,70), int)\n",
    "gosper_glider = np.array([\n",
    "[0, 0, 0, 0, 0, 0, 0, 0, 0, 0, 0, 0, 0, 0, 0, 0, 0, 0, 0, 0, 0, 0, 0, 0, 1, 0, 0, 0, 0, 0, 0, 0, 0, 0, 0, 0], \n",
    "[0, 0, 0, 0, 0, 0, 0, 0, 0, 0, 0, 0, 0, 0, 0, 0, 0, 0, 0, 0, 0, 0, 1, 0, 1, 0, 0, 0, 0, 0, 0, 0, 0, 0, 0, 0], \n",
    "[0, 0, 0, 0, 0, 0, 0, 0, 0, 0, 0, 0, 1, 1, 0, 0, 0, 0, 0, 0, 1, 1, 0, 0, 0, 0, 0, 0, 0, 0, 0, 0, 0, 0, 1, 1], \n",
    "[0, 0, 0, 0, 0, 0, 0, 0, 0, 0, 0, 1, 0, 0, 0, 1, 0, 0, 0, 0, 1, 1, 0, 0, 0, 0, 0, 0, 0, 0, 0, 0, 0, 0, 1, 1], \n",
    "[1, 1, 0, 0, 0, 0, 0, 0, 0, 0, 1, 0, 0, 0, 0, 0, 1, 0, 0, 0, 1, 1, 0, 0, 0, 0, 0, 0, 0, 0, 0, 0, 0, 0, 0, 0], \n",
    "[1, 1, 0, 0, 0, 0, 0, 0, 0, 0, 1, 0, 0, 0, 1, 0, 1, 1, 0, 0, 0, 0, 1, 0, 1, 0, 0, 0, 0, 0, 0, 0, 0, 0, 0, 0], \n",
    "[0, 0, 0, 0, 0, 0, 0, 0, 0, 0, 1, 0, 0, 0, 0, 0, 1, 0, 0, 0, 0, 0, 0, 0, 1, 0, 0, 0, 0, 0, 0, 0, 0, 0, 0, 0], \n",
    "[0, 0, 0, 0, 0, 0, 0, 0, 0, 0, 0, 1, 0, 0, 0, 1, 0, 0, 0, 0, 0, 0, 0, 0, 0, 0, 0, 0, 0, 0, 0, 0, 0, 0, 0, 0], \n",
    "[0, 0, 0, 0, 0, 0, 0, 0, 0, 0, 0, 0, 1, 1, 0, 0, 0, 0, 0, 0, 0, 0, 0, 0, 0, 0, 0, 0, 0, 0, 0, 0, 0, 0, 0, 0]])\n",
    "\n",
    "world_gosper[10:10+9,5:5+36] = gosper_glider\n",
    "\n",
    "display_world(world_gosper, 100)"
   ]
  },
  {
   "cell_type": "markdown",
   "metadata": {},
   "source": [
    "#### 4.6.4. Warnblinker/Leuchtturm (Beacon)\n",
    "\n",
    "Der Beacon (Warnblinker/Leuchtturm) ist ein Oszillator.\n",
    "\n",
    "##### 4.6.4.1. Aufgabe 12 – Oszillatoren\n",
    "Lassen Sie den nachstehenden Code laufen und beobachten Sie, was passiert. \n",
    "\n",
    "Was ist ein Oszillator?  \n",
    "*Antworten Sie gleich in dieser Zelle.*\n",
    "\n",
    "*Lösung:  \n",
    "Oszillatoren sind Konstellationen, die sich über Generationen immer wieder wiederholen.*"
   ]
  },
  {
   "cell_type": "code",
   "execution_count": null,
   "metadata": {},
   "outputs": [],
   "source": [
    "world_beacon = np.array([[0, 0, 0, 0, 0, 0],\n",
    "                        [0, 1, 1, 0, 0, 0],\n",
    "                        [0, 1, 1, 0, 0, 0],\n",
    "                        [0, 0, 0, 1, 1, 0],\n",
    "                        [0, 0, 0, 1, 1, 0],\n",
    "                        [0, 0, 0, 0, 0, 0]])\n",
    "display_world(world_beacon, 5)"
   ]
  },
  {
   "cell_type": "markdown",
   "metadata": {},
   "source": [
    "#### 4.6.5. Diehard pattern\n",
    "\n",
    "Diese Konstellation verschwindet erst nach 130 Generationen."
   ]
  },
  {
   "cell_type": "code",
   "execution_count": null,
   "metadata": {},
   "outputs": [],
   "source": [
    "world_diehard = np.zeros((50,50), int)\n",
    "diehard = np.array([[0, 0, 0, 0, 0, 0, 1, 0],\n",
    "                    [1, 1, 0, 0, 0, 0, 0, 0],\n",
    "                    [0, 1, 0, 0, 0, 1, 1, 1]])\n",
    "world_diehard[20:20+3,20:20+8] = diehard\n",
    "display_world(world_diehard, 135)"
   ]
  },
  {
   "cell_type": "markdown",
   "metadata": {},
   "source": [
    "*Hinweis:*  \n",
    "Da es mit einer Ticklänge von 0.4 Sekunden recht lange dauert, um 135 Generationen anzuzeigen, können Sie der Funktion `display_world` die Ticklänge 0.1 übergeben.  \n",
    "In Aufgabe 8 (unter 4.5.1. ) haben Sie die Funktion `display_world` um den Parameter `tick_length` erweitert und ihm den Standardwert 0.4 gegeben. Deshalb können Sie die Funktion auch mit nur 2 Argumenten aufrufen, dann wird der Standardwert verwendet oder aber die Ticklänge angeben, die Sie wollen. Dann hat der Funktionsaufruf 3 Argumente.  \n",
    "Falls Sie die Funktion `display_world` noch nicht um einen Parameter für die Ticklänge erweitert haben, können Sie auch das Argument der `sleep`-Funktion in Zeile 29 der Funktion `iterate` unter 4.4.1. ändern. Sie müssen dann die Funktion `display_world`auch noch einmal ausführen."
   ]
  },
  {
   "cell_type": "markdown",
   "metadata": {},
   "source": [
    "#### 4.6.6. \"Mächtige Linie\"\n",
    "\n",
    "Aus einer Konstellation, die nur eine Zelle hoch ist, ergibt sich ein unbegrenztes Wachstum.  "
   ]
  },
  {
   "cell_type": "code",
   "execution_count": null,
   "metadata": {},
   "outputs": [],
   "source": [
    "world = np.zeros((100,80), int)\n",
    "one_liner = np.array([\n",
    "[1, 1, 1, 1, 1, 1, 1, 1, 0, 1, 1, 1, 1, 1, 0, 0, 0, 1, 1, 1, 0, 0, 0, 0, 0, 0, 1, 1, 1, 1, 1, 1, 1, 0, 1, 1, 1, 1, 1]])\n",
    "world[50:50+1,15:15+39] = one_liner\n",
    "display_world(world, 200)"
   ]
  },
  {
   "cell_type": "markdown",
   "metadata": {},
   "source": [
    "##### 4.6.6.1. Aufgabe 13\n",
    "\n",
    "Visualisieren Sie die Startgeneration."
   ]
  },
  {
   "cell_type": "code",
   "execution_count": null,
   "metadata": {
    "scrolled": true
   },
   "outputs": [],
   "source": [
    "# Ihr Code..."
   ]
  },
  {
   "cell_type": "markdown",
   "metadata": {},
   "source": [
    "#### 4.6.7. Aufgabe 14 – Regeln des Game of Life (Reprise)\n",
    "\n",
    "Hier reicht es, wenn Sie die Aufgabe für eine der Konstellationen lösen. Die Konstellation oben links ist weiter unten bereits gelöst.\n",
    "\n",
    "a) Implementieren Sie entsprechend des Arbeitsblatts zu den Regeln des Game of Life, die untenstehenden Anfangsgenerationen und überprüfen Sie die auf Papier ermittelten Folgegenerationen.  \n",
    "b) Wieviele Iterationen brauchen Sie, für diese Kontrolle?  \n",
    "c) Versuchen Sie mehrere Generationen zu berechnen. Was stellen Sie jeweils fest?\n",
    "\n",
    "<img src=\"images/uebung_regeln.png\" alt=\"uebung_regeln\" width=\"60%\"/>"
   ]
  },
  {
   "cell_type": "markdown",
   "metadata": {},
   "source": [
    "*Beantworten Sie die Textantworten gleich in dieser Zelle drin.*\n",
    "\n",
    "Lösung zu 14.b)  \n",
    "Bei der Papierübung wurde jeweils die erste Folgegeneration berechnet. Um diese Lösungen zu überprüfen, braucht es *zwei* Iterationen.\n",
    "\n",
    "Lösungen zu 14.c)\n",
    "* oben links:  \n",
    "  Die Population löst sich in der 6. Generation auf.\n",
    "* oben rechts:  \n",
    "  Ab der dritten Generation ist diese Konstellation konstant.\n",
    "* unten links  \n",
    "  Diese Konstellation ist aber der zweiten Generation konstant.\n",
    "* unten rechts  \n",
    "  Die Population löst sich in der 3. Generation auf."
   ]
  },
  {
   "cell_type": "code",
   "execution_count": null,
   "metadata": {},
   "outputs": [],
   "source": [
    "# Beispiel: Konstellation oben links\n",
    "oben_links = np.zeros((6,6), int)\n",
    "bild_oben_links = np.array([[0, 1, 0],\n",
    "                            [1, 1, 0],\n",
    "                            [1, 0, 0],\n",
    "                            [0, 0, 1]])\n",
    "oben_links[1:5,2:5] = bild_oben_links\n",
    "\n",
    "display_world(oben_links, 1)"
   ]
  },
  {
   "cell_type": "markdown",
   "metadata": {},
   "source": [
    "*Hinweis:*  \n",
    "`display_world(oben_links, 2, 1)` ist dasselbe wie: `display_world(oben_links, number_of_iterations=2, tick_length=1)` \n",
    "tick_length=1 bedeutet, nach 1 Sekunde wird die neue Generation angezeigt.  \n",
    "Da tick_length optional ist (bei der Definition haben Sie mit `tick_lenghth=0.4` einen Standardwert von 0.4s gesetzt) können Sie den Funktionsaufruf auch ohne tick_length machen: `display_world(oben_links, 2)`, verwenden dann aber einfach die Standardticklänge von 0.4 Sekunden."
   ]
  },
  {
   "cell_type": "code",
   "execution_count": null,
   "metadata": {},
   "outputs": [],
   "source": [
    "# Ihr Code..."
   ]
  },
  {
   "cell_type": "markdown",
   "metadata": {},
   "source": [
    "#### 4.6.8. Aufgabe 15 – Startgenerationen und eigene Objekte definieren\n",
    "\n",
    "Eine Konstellation haben Sie bereits mit der Aufgabe 13 umgesetzt. Implementieren Sie nun zwei bis drei Konstellationen.\n",
    "\n",
    "Sie können sich hier oder auch im Internet inspirieren lassen oder ein eigenes Pixelbild machen und schauen, wie es sich entwickelt. Das Ziel ist, dass Sie mit dieser Aufgabe und der Aufgabe 13 drei bis vier Konstellationen umgesetzt haben. Versuchen Sie zu beobachten, wie sich die Konstellationen verhalten. \n",
    "\n",
    "Es gibt statische Konstellationen, die sich nicht verändern, Oszillatoren, die sich wiederholen, das kann auch ein paar Generationen dauern, Konstellationen, die wachsen oder sich auflösen. Was beobachten Sie?\n",
    "\n",
    "**Konstellationen zur Inspiration**\n",
    "<img src=\"images/konstellationen.png\" alt=\"konstellationen\"/>"
   ]
  },
  {
   "cell_type": "code",
   "execution_count": null,
   "metadata": {},
   "outputs": [],
   "source": [
    "# Ihr Code..."
   ]
  },
  {
   "cell_type": "markdown",
   "metadata": {},
   "source": [
    "## 4.7. Zellen am Rand\n",
    "\n",
    "Wie verhalten sich eigentlich Zellen am Rand? \n",
    "\n",
    "Zellen am Rand sind ein Spezialfall. Da sie weniger Nachbarn haben als Zellen, die nicht am Rand sind, muss man sich überlegen, wie man mit ihnen umgehen möchte – ein Problem, das sich in der Informatik häufig stellt.\n",
    "\n",
    "Sie erinnern sich, dass Sie bisher definiert haben, dass Zellen am Rand nie lebende Nachbarn haben und desbalb immer tot bleiben.\n",
    "\n",
    "Man könnte aber auch sagen, die Randzeilen (unterste und oberste Zeile) sind Nachbarn und die Randspalten (Spalten ganz links und ganz rechts) ebenso.\n",
    "\n",
    "In diesem Falle müssten Sie die Berechnungen der Folgezustände anpassen. Das ist etwas kompliziert, wird aber gehen.\n",
    "\n",
    "### 4.7.1. Aufgabe 16  – Randzellen (freiwillig)\n",
    "Passen Sie die Funktion `iterate` an, so dass die Randzeilen und Randspalten jeweils benachbart sind.\n",
    "\n",
    "Der Gleiter von 4.6.2. wird damit aus der Ecke unten rechts hinauswandern und oben links wieder erscheinen.\n",
    "Kopieren Sie den Gleitercode in eine neue Zelle unter der Funktion `iterate` und testen Sie das Verhalten. Sie müssen dazu noch die Anzahl Generationen anpassen, die berechnet werden soll."
   ]
  },
  {
   "cell_type": "code",
   "execution_count": null,
   "metadata": {},
   "outputs": [],
   "source": [
    "import numpy as np\n",
    "\n",
    "def iterate(world): # Was ist das Argument/der Parameter der Funktion iterate?\n",
    "        \n",
    "    # Kopie des Ausgangszustands machen\n",
    "    old_world = np.copy(world)\n",
    "    \n",
    "    # Höhe und Breite der Welt bestimmen\n",
    "    height = world.shape[0]\n",
    "    width = world.shape[1]\n",
    "    \n",
    "    # Über alle Zellen iterieren\n",
    "    for (i,j) in np.ndindex((height, width)):\n",
    "        \n",
    "        ########################################################################\n",
    "        # Berechnung der Anzahl der lebenden Nachbarn (neighbours_alive)       #\n",
    "        ########################################################################\n",
    "        \n",
    "        # Ihr Code...\n",
    "            \n",
    "        ########################################################################\n",
    "        # Berechnung des neuen Zustands der Zelle (state)                      #\n",
    "        ########################################################################\n",
    "\n",
    "        state = old_world[i,j]\n",
    "        \n",
    "        # Anwendung der Regeln\n",
    "        if(state == 1 and (neighbours_alive < 2 or neighbours_alive > 3)):\n",
    "            new_state = 0\n",
    "        elif(state == 0 and neighbours_alive == 3):    \n",
    "            new_state = 1\n",
    "        else:\n",
    "            new_state = state\n",
    "    \n",
    "        world[i,j] = new_state"
   ]
  },
  {
   "cell_type": "markdown",
   "metadata": {},
   "source": [
    "*Hinweise:*\n",
    "\n",
    "Am besten *zeichnen* Sie eine Matrix *auf*, zum Beispiel der Dimension 4x5 (Höhe height=4, i geht von 0 bis und ohne 4; Breite width=5, j geht von 0 bis und ohne 5) und überlegen Sie, wie Sie von den Zellen am linken Rand an den rechten Rand kommen und vom oberen Rand an den unteren und umgekehrt.\n",
    "\n",
    "```\n",
    "+---+---+---+---+---+  \n",
    "|   | c | d'|   |   |  \n",
    "+---+---+---+---+---+  \n",
    "| a |   |   |   | a'|  \n",
    "+---+---+---+---+---+  \n",
    "| b'|   |   |   | b |  \n",
    "+---+---+---+---+---+  \n",
    "|   | c'| d |   |   |  \n",
    "+---+---+---+---+---+\n",
    "```\n",
    "\n",
    "Hier sehen Sie, wie Sie sich die Nachbarschaft vorstellen müssen:\n",
    "<img src=\"images/torus_from_rectangle_wikipedia.gif\" alt=\"donut\" width=\"50%\"/>\n",
    "\n",
    "Quelle: [Wikipedia: Torus](https://en.wikipedia.org/wiki/Torus): [Bild: Torus_from_rectangle.gif von Lucas Vieira](https://en.wikipedia.org/wiki/Torus#/media/File:Torus_from_rectangle.gif)"
   ]
  },
  {
   "cell_type": "code",
   "execution_count": null,
   "metadata": {},
   "outputs": [],
   "source": [
    "import numpy as np\n",
    "\n",
    "def iterate(world):\n",
    "        \n",
    "    # Kopie des Ausgangszustands machen\n",
    "    old_world = np.copy(world)\n",
    "    \n",
    "    # Höhe und Breite der Welt bestimmen\n",
    "    height = world.shape[0]\n",
    "    width = world.shape[1]\n",
    "    \n",
    "    # Über alle Zellen iterieren\n",
    "    for (i,j) in np.ndindex((height, width)):\n",
    "        \n",
    "        ########################################################################\n",
    "        # Berechnung der Anzahl der lebenden Nachbarn (neighbours_alive)       #\n",
    "        ########################################################################\n",
    "        \n",
    "        # Lösung Aufgabe 15:\n",
    "        neighbours_alive = old_world[(i-1+width)%width, (j-1+height)%height]\n",
    "        neighbours_alive += old_world[(i-1+width)%width, j]\n",
    "        neighbours_alive += old_world[(i-1+width)%width, (j+1)%height]\n",
    "        neighbours_alive += old_world[i, (j-1+height)%height]\n",
    "        neighbours_alive += old_world[i, (j+1)%height]\n",
    "        neighbours_alive += old_world[(i+1)%width, (j-1+height)%height]\n",
    "        neighbours_alive += old_world[(i+1)%width, j]\n",
    "        neighbours_alive += old_world[(i+1)%width, (j+1)%height]            \n",
    "            \n",
    "        ########################################################################\n",
    "        # Berechnung des neuen Zustands der Zelle (state)                      #\n",
    "        ########################################################################\n",
    "\n",
    "        state = old_world[i,j]\n",
    "        \n",
    "        # Anwendung der Regeln\n",
    "        if(state == 1 and (neighbours_alive < 2 or neighbours_alive > 3)):\n",
    "            new_state = 0\n",
    "        elif(state == 0 and neighbours_alive == 3):    \n",
    "            new_state = 1\n",
    "        else:\n",
    "            new_state = state\n",
    "    \n",
    "        world[i,j] = new_state"
   ]
  },
  {
   "cell_type": "code",
   "execution_count": null,
   "metadata": {
    "scrolled": true
   },
   "outputs": [],
   "source": [
    "################################################################################\n",
    "# Gleiter                                                                      #\n",
    "################################################################################\n",
    "\n",
    "# Neue Welt mit der Dimension 20x20 erstellen\n",
    "world_glider = np.zeros((20,20), int)\n",
    "\n",
    "# Element (hier den Gleiter) definieren\n",
    "glider = np.array([[1, 0, 1],\n",
    "                   [0, 1, 1],\n",
    "                   [0, 1, 0]])\n",
    "\n",
    "# Den Gleiter in die Welt einpflanzen\n",
    "world_glider[1:1+3,1:1+3] = glider\n",
    "\n",
    "# Animation über genügend Iterationen anzeigen, \n",
    "# verwenden Sie eine Ticklänge von 0.05\n",
    "\n",
    "# passen Sie den Funktionsaufruf an:\n",
    "display_world(world_glider, 90, 0.05)\n"
   ]
  },
  {
   "cell_type": "code",
   "execution_count": null,
   "metadata": {},
   "outputs": [],
   "source": []
  }
 ],
 "metadata": {
  "kernelspec": {
   "display_name": "Python 3",
   "language": "python",
   "name": "python3"
  },
  "language_info": {
   "codemirror_mode": {
    "name": "ipython",
    "version": 3
   },
   "file_extension": ".py",
   "mimetype": "text/x-python",
   "name": "python",
   "nbconvert_exporter": "python",
   "pygments_lexer": "ipython3",
   "version": "3.8.8"
  }
 },
 "nbformat": 4,
 "nbformat_minor": 1
}
