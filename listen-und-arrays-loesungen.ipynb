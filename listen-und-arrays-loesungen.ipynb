{
 "cells": [
  {
   "cell_type": "markdown",
   "metadata": {},
   "source": [
    "# Zweidimensionale Arrays mit NumPy\n",
    "\n",
    "Da das Game of Life auf einem zweidimensionalen \"Feld\" abgebildet wird, benötigen Sie eine Möglichkeit, diese zweite Dimension abzubilden."
   ]
  },
  {
   "cell_type": "markdown",
   "metadata": {},
   "source": [
    "## Listen\n",
    "\n",
    "Bisher haben Sie Listen in Python kennengelernt und damit gearbeitet.\n",
    "\n",
    "Zur Erinnerung:  \n",
    "Listen werden durch eckige Klammern gekennzeichnet. Sie sind nicht auf einen Datentypen beschränkt, die Elemente können also verschiedene Datentypen haben. Es gibt auch leere Listen und die Elemente sind durch Kommata getrennt.\n",
    "\n",
    "Sie erinnern sich, dass Python anstelle von Arrays Listen anbietet, mit denen sich nicht rechnen lässt. Für die Simulationen werden Sie NumPy-Arrays verwenden, die sich grundsätzlich gleich verhalten wie Listen, einfach dass die Elemente denselben Datentyp haben müssen. Wichtig werden Teilbereiche sein, die Sie hier noch einmal üben werden – zuerst am Beispiel von Listen, anschliessend werden Sie dieselbe Übung mit NumPy-Arrays machen und sehen, dass die Handhabung dieselbe ist."
   ]
  },
  {
   "cell_type": "markdown",
   "metadata": {},
   "source": [
    "### Aufgabe 1\n",
    "\n",
    "1.a) Erstellen Sie die Liste `ziffern`, welche die Ziffern von 0 bis 9 erhält.\n",
    "\n",
    "Hinweis:  \n",
    "Die Liste ist eher kurz. Sie dürfen Sie mit einer Funktion abfüllen, aber Sie können die Werte auch einfach hardcodieren."
   ]
  },
  {
   "cell_type": "code",
   "execution_count": null,
   "metadata": {},
   "outputs": [],
   "source": [
    "# Ihr Code\n",
    "\n",
    "print(ziffern)"
   ]
  },
  {
   "cell_type": "code",
   "execution_count": null,
   "metadata": {},
   "outputs": [],
   "source": [
    "ziffern = [0, 1, 2, 3, 4, 5, 6, 7, 8, 9]\n",
    "print(ziffern)\n",
    "\n",
    "ziffern = [x for x in range(10)]\n",
    "print(ziffern)"
   ]
  },
  {
   "cell_type": "markdown",
   "metadata": {},
   "source": [
    "### Listen aufteilen (Slicing) – der Teilbereichsoperator [start:stop:step]\n",
    "\n",
    "Listen lassen sich mit ':' aufteilen (\"slicen\").\n",
    "\n",
    "Repetieren wir die Arbeitsweise des Teilbereichsoperators an einigen Beispielen.  \n",
    "Wenn nichts anderes angegeben wird, ist die Schrittweite 1. Das trifft sich gut, weil `step` einen Defaultwert (=Standardwert) von 1 hat.\n",
    "\n",
    "*Beachten Sie, dass das **erste Element** der Liste den **Index 0** hat.*\n",
    "\n",
    "Geben Sie nun die verlangten Teile Ihrer Liste `ziffern` mit der Funktion `print()` aus und *verwenden Sie unbedingt den __Teilbereichsoperator__*."
   ]
  },
  {
   "cell_type": "markdown",
   "metadata": {},
   "source": [
    "1.b) Vom 3. zum 5. Element (also `[2, 3, 4]`):"
   ]
  },
  {
   "cell_type": "code",
   "execution_count": null,
   "metadata": {},
   "outputs": [],
   "source": [
    "# Ihr Code"
   ]
  },
  {
   "cell_type": "code",
   "execution_count": null,
   "metadata": {},
   "outputs": [],
   "source": [
    "print(ziffern[2:5])"
   ]
  },
  {
   "cell_type": "markdown",
   "metadata": {},
   "source": [
    "1.d) Ab dem 7. Element:"
   ]
  },
  {
   "cell_type": "code",
   "execution_count": null,
   "metadata": {},
   "outputs": [],
   "source": [
    "# Ihr Code"
   ]
  },
  {
   "cell_type": "code",
   "execution_count": null,
   "metadata": {},
   "outputs": [],
   "source": [
    "print(ziffern[6:])"
   ]
  },
  {
   "cell_type": "markdown",
   "metadata": {},
   "source": [
    "1.e) Vom ersten bis zum letzten Element (verwenden Sie den  Teilbereichsoperator):"
   ]
  },
  {
   "cell_type": "code",
   "execution_count": null,
   "metadata": {},
   "outputs": [],
   "source": [
    "# Ihr Code"
   ]
  },
  {
   "cell_type": "code",
   "execution_count": null,
   "metadata": {},
   "outputs": [],
   "source": [
    "print(ziffern[:])\n",
    "print(ziffern[::]) # ist ebenfalls korrekt"
   ]
  },
  {
   "cell_type": "markdown",
   "metadata": {},
   "source": [
    "1.f) Vom ersten bis zum letzten Element, jedes zweite Element (in diesem Fall alle geraden Zahlen):"
   ]
  },
  {
   "cell_type": "code",
   "execution_count": null,
   "metadata": {},
   "outputs": [],
   "source": [
    "# Ihr Code"
   ]
  },
  {
   "cell_type": "code",
   "execution_count": null,
   "metadata": {},
   "outputs": [],
   "source": [
    "print(ziffern[::2])"
   ]
  },
  {
   "cell_type": "markdown",
   "metadata": {},
   "source": [
    "1.g) Wie würden Sie denn die ungeraden Zahlen aus unserer Liste `ziffern` ausgeben?"
   ]
  },
  {
   "cell_type": "code",
   "execution_count": null,
   "metadata": {},
   "outputs": [],
   "source": [
    "# Ihr Code"
   ]
  },
  {
   "cell_type": "code",
   "execution_count": null,
   "metadata": {},
   "outputs": [],
   "source": [
    "print(ziffern[1::2])"
   ]
  },
  {
   "cell_type": "markdown",
   "metadata": {},
   "source": [
    "1.h) Vom dritten zum drittletzten Element:"
   ]
  },
  {
   "cell_type": "code",
   "execution_count": null,
   "metadata": {},
   "outputs": [],
   "source": [
    "# Ihr Code"
   ]
  },
  {
   "cell_type": "code",
   "execution_count": null,
   "metadata": {},
   "outputs": [],
   "source": [
    "print(ziffern[2:-2])"
   ]
  },
  {
   "cell_type": "markdown",
   "metadata": {},
   "source": [
    "1.i) Jedes zweite Element, vom dritten zum drittletzten:"
   ]
  },
  {
   "cell_type": "code",
   "execution_count": null,
   "metadata": {},
   "outputs": [],
   "source": [
    "# Ihr Code"
   ]
  },
  {
   "cell_type": "code",
   "execution_count": null,
   "metadata": {},
   "outputs": [],
   "source": [
    "print(ziffern[2:-2:2])"
   ]
  },
  {
   "cell_type": "markdown",
   "metadata": {},
   "source": [
    "## Arrays und NumPy\n",
    "\n",
    "**Listen** sind ein in Python *integrierter Datentyp*. Sie können Listen verwenden, ohne ein Modul einzubinden. Um mit Arrays arbeiten zu können, brauchen Sie hingegen ein Modul, das Arrays implementiert, beispielsweise NumPy.\n",
    "\n",
    "Der Name *NumPy* steht für *Numerical Python*. NumPy ist eine Bibliothek, die (effiziente) numerische Berechnungen mit mehrdimensionalen Arrays (Matrizen) ermöglicht. Sie ist für grosse Datenmengen ausgelegt.\n",
    "\n",
    "Stellen Sie sich Arrays als eine Art \"Weiterentwicklung\" von Listen vor. Was für Listen gilt, gilt oft auch für Arrays. Allerdings sind Arrays platzsparender implementiert und eine Bibliothek wie NumPy ermöglicht numerische Berechnungen (Matrizenoperationen). *Mit Arrays können Sie also rechenen, mit Listen nicht.*\n",
    "\n",
    "Sie erinnern sich, dass sich *Listen wie Strings verhalten*. Zwei Listen lassen sich nicht elementweise mit einem Plus `+` addieren, sondern wie Strings *konkatenieren* (aneinanderhängen):\n",
    "\n",
    "```Python\n",
    "string_1 = \"Viel Spass\"\n",
    "string_2 = \"!\"\n",
    "print(string_1 + string_2)\n",
    "liste_1 = [1, 2, 3, 4, 5]\n",
    "liste_2 = [10, 20, 30, 40, 50]\n",
    "liste_3 = liste_1 + liste_2\n",
    "print(liste_3)\n",
    "```\n",
    "\n",
    "führt zur Ausgabe\n",
    "\n",
    "```\n",
    "Viel Spass!\n",
    "[1, 2, 3, 4, 5, 10, 20, 30, 40, 50]\n",
    "```\n",
    "\n",
    "Probieren Sie es aus:"
   ]
  },
  {
   "cell_type": "code",
   "execution_count": null,
   "metadata": {},
   "outputs": [],
   "source": [
    "string_1 = \"Viel Spass\"\n",
    "string_2 = \"!\"\n",
    "print(string_1 + string_2) # --> Viel Spass!\n",
    "liste_1 = [1, 2, 3, 4, 5]\n",
    "liste_2 = [10, 20, 30, 40, 50]\n",
    "liste_3 = liste_1 + liste_2\n",
    "print(liste_3) # --> [1, 2, 3, 4, 5, 10, 20, 30, 40, 50]"
   ]
  },
  {
   "cell_type": "markdown",
   "metadata": {},
   "source": [
    "### Import von NumPy\n",
    "\n",
    "In der Regel wird das Modul NumPy importiert und mit der Abkürzung np bezeichnet, damit der Code nicht allzu lange wird."
   ]
  },
  {
   "cell_type": "code",
   "execution_count": null,
   "metadata": {},
   "outputs": [],
   "source": [
    "import numpy as np"
   ]
  },
  {
   "cell_type": "markdown",
   "metadata": {},
   "source": [
    "#### Datentyp\n",
    "\n",
    "Der Datentyp einer Liste und eines Arrays ist nicht derselbe.\n",
    "\n",
    "Die Funktion `type()` gibt den Datentyp eines Elements zurück, Sie können sie also verwenden, um den Unterschied zwischen Listen und NumPy-Arrays sichtbar zu machen."
   ]
  },
  {
   "cell_type": "code",
   "execution_count": null,
   "metadata": {},
   "outputs": [],
   "source": [
    "# Liste\n",
    "liste = [1, 2, 3, 4]\n",
    "print(type(liste))"
   ]
  },
  {
   "cell_type": "code",
   "execution_count": null,
   "metadata": {},
   "outputs": [],
   "source": [
    "# NumPy-Array\n",
    "np_array = np.array([1, 2, 3, 4])\n",
    "print(type(np_array))"
   ]
  },
  {
   "cell_type": "markdown",
   "metadata": {},
   "source": [
    "#### Addition zweier Arrays\n",
    "\n",
    "Schauen Sie sich noch einmal die Addition an. Werden zwei Listen addiert, entsteht eine Liste, welche die Elemente beider Listen enthält: Die Elemente der ersten Liste gefolgt von den Elementen der zweiten Liste.\n",
    "\n",
    "Werden hingegen zwei Arrays addiert, werden die einzelnen Elemente addiert:\n",
    "\n",
    "```Python\n",
    "array_1 = np.array([1, 2, 3, 4, 5])\n",
    "array_2 = np.array([10, 20, 30, 40, 50])\n",
    "array_3 = array_1 + array_2\n",
    "print(array_3)\n",
    "```\n",
    "\n",
    "führt zur Ausgabe\n",
    "\n",
    "```Python\n",
    "[11, 22, 33, 44, 55]\n",
    "```"
   ]
  },
  {
   "cell_type": "code",
   "execution_count": null,
   "metadata": {},
   "outputs": [],
   "source": [
    "array_1 = np.array([1, 2, 3, 4, 5])\n",
    "array_2 = np.array([10, 20, 30, 40, 50])\n",
    "array_3 = array_1 + array_2\n",
    "print(array_3)"
   ]
  },
  {
   "cell_type": "markdown",
   "metadata": {},
   "source": [
    "#### Operationen auf Elemente\n",
    "\n",
    "Wenn Sie einen Array mit einer Zahl multiplizieren oder dividieren, wenden Sie die Operation auf jedes Element an. (Falls Sie Vektoren kennen: Sie strecken bzw. stauchen mit dieser Operation einen Vektor.)"
   ]
  },
  {
   "cell_type": "code",
   "execution_count": null,
   "metadata": {},
   "outputs": [],
   "source": [
    "my_array = np.array([1, 2, 3, 4, 5])\n",
    "print(my_array * 2)"
   ]
  },
  {
   "cell_type": "code",
   "execution_count": null,
   "metadata": {},
   "outputs": [],
   "source": [
    "print(my_array / 2)"
   ]
  },
  {
   "cell_type": "markdown",
   "metadata": {},
   "source": [
    "Auf Listen lassen sich keine arithmetischen Operationen anwenden.\n",
    "\n",
    "Dasselbe Beispiel auf Listen angewandt, bringt nicht das gewünschte Resultat oder gar eine Fehlermeldung."
   ]
  },
  {
   "cell_type": "code",
   "execution_count": null,
   "metadata": {},
   "outputs": [],
   "source": [
    "my_list = [1, 2, 3, 4, 5]\n",
    "print(my_list * 2)"
   ]
  },
  {
   "cell_type": "code",
   "execution_count": null,
   "metadata": {},
   "outputs": [],
   "source": [
    "print(my_list / 2)"
   ]
  },
  {
   "cell_type": "markdown",
   "metadata": {},
   "source": [
    "### Aufgabe 2\n",
    "\n",
    "Diese Aufgabe entspricht der Aufgabe 1, aber nun verwenden Sie **numpy-Arrays**. Wieder interessiert uns der Teilbereichsoperator.\n",
    "\n",
    "2.a) Erstellen Sie den Array `ziffern_array`, der die Ziffern von 0 bis 9 enthält."
   ]
  },
  {
   "cell_type": "code",
   "execution_count": null,
   "metadata": {},
   "outputs": [],
   "source": [
    "# Ihr Code\n",
    "\n",
    "print(ziffern_array)"
   ]
  },
  {
   "cell_type": "code",
   "execution_count": null,
   "metadata": {},
   "outputs": [],
   "source": [
    "ziffern_array = np.array([0, 1, 2, 3, 4, 5, 6, 7, 8, 9])\n",
    "print(ziffern_array)\n",
    "\n",
    "ziffern_array = np.array([x for x in range(10)])\n",
    "print(ziffern_array)"
   ]
  },
  {
   "cell_type": "markdown",
   "metadata": {},
   "source": [
    "2.b) Vom 3. zum 5. Element (also wieder `[2, 3, 4]`):"
   ]
  },
  {
   "cell_type": "code",
   "execution_count": null,
   "metadata": {},
   "outputs": [],
   "source": [
    "# Ihr Code"
   ]
  },
  {
   "cell_type": "code",
   "execution_count": null,
   "metadata": {},
   "outputs": [],
   "source": [
    "print(ziffern_array[2:5])"
   ]
  },
  {
   "cell_type": "markdown",
   "metadata": {},
   "source": [
    "2.c) Vom Anfang bis zum 4. Element:"
   ]
  },
  {
   "cell_type": "code",
   "execution_count": null,
   "metadata": {},
   "outputs": [],
   "source": [
    "# Ihr Code"
   ]
  },
  {
   "cell_type": "code",
   "execution_count": null,
   "metadata": {},
   "outputs": [],
   "source": [
    "print(ziffern_array[:4])"
   ]
  },
  {
   "cell_type": "markdown",
   "metadata": {},
   "source": [
    "2.d) Ab dem 7. Element:"
   ]
  },
  {
   "cell_type": "code",
   "execution_count": null,
   "metadata": {},
   "outputs": [],
   "source": [
    "# Ihr Code"
   ]
  },
  {
   "cell_type": "code",
   "execution_count": null,
   "metadata": {},
   "outputs": [],
   "source": [
    "print(ziffern_array[7:])"
   ]
  },
  {
   "cell_type": "markdown",
   "metadata": {},
   "source": [
    "2.e) Vom ersten bis zum letzten Element (verwenden Sie den  Teilbereichsoperator):"
   ]
  },
  {
   "cell_type": "code",
   "execution_count": null,
   "metadata": {},
   "outputs": [],
   "source": [
    "# Ihr Code"
   ]
  },
  {
   "cell_type": "code",
   "execution_count": null,
   "metadata": {},
   "outputs": [],
   "source": [
    "print(ziffern_array[:])\n",
    "print(ziffern_array[::]) # ist ebenfalls korrekt"
   ]
  },
  {
   "cell_type": "markdown",
   "metadata": {},
   "source": [
    "2.f) Vom ersten bis zum letzten Element, jedes zweite Element (in diesem Fall alle geraden Zahlen):"
   ]
  },
  {
   "cell_type": "code",
   "execution_count": null,
   "metadata": {},
   "outputs": [],
   "source": [
    "# Ihr Code"
   ]
  },
  {
   "cell_type": "code",
   "execution_count": null,
   "metadata": {},
   "outputs": [],
   "source": [
    "print(ziffern_array[::2])"
   ]
  },
  {
   "cell_type": "markdown",
   "metadata": {},
   "source": [
    "2.g) Wie wären denn die ungeraden Zahlen?"
   ]
  },
  {
   "cell_type": "code",
   "execution_count": null,
   "metadata": {},
   "outputs": [],
   "source": [
    "# Ihr Code"
   ]
  },
  {
   "cell_type": "code",
   "execution_count": null,
   "metadata": {},
   "outputs": [],
   "source": [
    "print(ziffern_array[1::2])"
   ]
  },
  {
   "cell_type": "markdown",
   "metadata": {},
   "source": [
    "2.h) Vom dritten zum drittletzten Element:"
   ]
  },
  {
   "cell_type": "code",
   "execution_count": null,
   "metadata": {},
   "outputs": [],
   "source": [
    "# Ihr Code"
   ]
  },
  {
   "cell_type": "code",
   "execution_count": null,
   "metadata": {},
   "outputs": [],
   "source": [
    "print(ziffern_array[2:-2])"
   ]
  },
  {
   "cell_type": "markdown",
   "metadata": {},
   "source": [
    "2.i) Jedes zweite Element, vom dritten zum drittletzten:"
   ]
  },
  {
   "cell_type": "code",
   "execution_count": null,
   "metadata": {},
   "outputs": [],
   "source": [
    "# Ihr Code"
   ]
  },
  {
   "cell_type": "code",
   "execution_count": null,
   "metadata": {},
   "outputs": [],
   "source": [
    "print(ziffern_array[2:-2:2])"
   ]
  },
  {
   "cell_type": "markdown",
   "metadata": {},
   "source": [
    "## Dimensionalität\n",
    "\n",
    "Mit Arrays lässt es sich auch rechnen:\n",
    "* Ein _**null**dimensionaler_ Array enthält einen Wert. Dieser kann einen einzelnen Wert repräsentieren.\n",
    "* Ein _**ein**dimensionaler_ Array enthält einzelne Werte, die beispielsweise durch eine Linie in einem x/-y-Diagramm dargestellt werden können, wobei die x-Achse den Indizes der Werte im Array entspricht. Er kann beispielsweise eine Sammlung von Messwerten repräsentieren. Falls Sie Vektoren bereits kennen: Ein eindimensionaler Array repräsentiert einen *Vektor*.\n",
    "* Ein _**zwei**dimensionaler_ Array enthält anstelle von Werten wiederum Arrays. Er kann eine zweidimensionale Sammlung von Werten enthalten. Sie können sich dies wie ein Pixelbild vorstellen, in dem jeder Pixel eine Koordinate (x,y) hat. Sie werden die Welt, in der Sie Ihre Simulation durchführen, in einem zweidimensionalen Array abbilden. Ein zweidimensionaler Array repräsentiert eine *Matrix*. Falls Sie noch nicht wissen, was eine Matrix ist, versuchen Sie sich dennoch an den Begriff zu erinnern, da Sie ihn in der NumPy-Dokumentation auf den Begriff stossen werden."
   ]
  },
  {
   "cell_type": "markdown",
   "metadata": {},
   "source": [
    "### Zweidimensionale Listen\n",
    "\n",
    "Die Zahlen von 0 bis 99 lassen sich in einem Feld, einer zweidimensionalen Liste, übersichtlich darstellen."
   ]
  },
  {
   "cell_type": "code",
   "execution_count": null,
   "metadata": {},
   "outputs": [],
   "source": [
    "zahlenfeld_d2_liste = [\n",
    "    [0, 1, 2, 3, 4, 5, 6, 7, 8, 9],\n",
    "    [10, 11, 12, 13, 14, 15, 16, 17, 18, 19],\n",
    "    [20, 21, 22, 23, 24, 25, 26, 27, 28, 29],\n",
    "    [30, 31, 32, 33, 34, 35, 36, 37, 38, 39],\n",
    "    [40, 41, 42, 43, 44, 45, 46, 47, 48, 49],\n",
    "    [50, 51, 52, 53, 54, 55, 56, 57, 58, 59],\n",
    "    [60, 61, 62, 63, 64, 65, 66, 67, 68, 69],\n",
    "    [70, 71, 72, 73, 74, 75, 76, 77, 78, 79],\n",
    "    [80, 81, 82, 83, 84, 85, 86, 87, 88, 89],\n",
    "    [90, 91, 92, 93, 94, 95, 96, 97, 98, 99]\n",
    "]\n",
    "zahlenfeld_d2_liste"
   ]
  },
  {
   "cell_type": "markdown",
   "metadata": {},
   "source": [
    "Hinweis:  \n",
    "Hier ist es angenehmer, die inneren Listen mit einer Funktion abzufüllen:"
   ]
  },
  {
   "cell_type": "code",
   "execution_count": null,
   "metadata": {},
   "outputs": [],
   "source": [
    "zahlenfeld_d2_liste = [\n",
    "    [x for x in range(10)],\n",
    "    [10 + x for x in range(10)],\n",
    "    [20 + x for x in range(10)],\n",
    "    [30 + x for x in range(10)],\n",
    "    [40 + x for x in range(10)],\n",
    "    [50 + x for x in range(10)],\n",
    "    [60 + x for x in range(10)],\n",
    "    [70 + x for x in range(10)],\n",
    "    [80 + x for x in range(10)],\n",
    "    [90 + x for x in range(10)]\n",
    "]\n",
    "zahlenfeld_d2_liste"
   ]
  },
  {
   "cell_type": "markdown",
   "metadata": {},
   "source": [
    "### Zweidimensionale Arrays\n",
    "\n",
    "Genauso wie in einer zweidimensionalen Liste lassen sich Zahlen auch in einem zweidimensionalen Array übersichtlich darstellen.\n",
    "\n",
    "#### Aufgabe 3\n",
    "\n",
    "3.a) Erstellen Sie einen Array `zahlenfeld_2d_array` mit den Zahlen von 0 bis 99."
   ]
  },
  {
   "cell_type": "code",
   "execution_count": null,
   "metadata": {},
   "outputs": [],
   "source": [
    "# Ihr Code\n",
    "print(zahlenfeld_2d_array)"
   ]
  },
  {
   "cell_type": "code",
   "execution_count": null,
   "metadata": {},
   "outputs": [],
   "source": [
    "zahlenfeld_2d_array = np.array([\n",
    "    [x for x in range(10)],\n",
    "    [10 + x for x in range(10)],\n",
    "    [20 + x for x in range(10)],\n",
    "    [30 + x for x in range(10)],\n",
    "    [40 + x for x in range(10)],\n",
    "    [50 + x for x in range(10)],\n",
    "    [60 + x for x in range(10)],\n",
    "    [70 + x for x in range(10)],\n",
    "    [80 + x for x in range(10)],\n",
    "    [90 + x for x in range(10)]\n",
    "])\n",
    "\n",
    "print(zahlenfeld_2d_array)"
   ]
  },
  {
   "cell_type": "markdown",
   "metadata": {},
   "source": [
    "3.b) Erstellen Sie einen Array, der das folgende Bild abbildet und geben Sie dem Array einen passenden Namen.\n",
    "\n",
    "Codierregel: schwarz=1, weiss=0\n",
    "\n",
    "<img src=\"images/aufgabe3.png\" alt=\"aufgabe3\" width=\"12.5%\"/>"
   ]
  },
  {
   "cell_type": "code",
   "execution_count": null,
   "metadata": {},
   "outputs": [],
   "source": [
    "# Ihr Code"
   ]
  },
  {
   "cell_type": "code",
   "execution_count": null,
   "metadata": {},
   "outputs": [],
   "source": [
    "liegendes_herz = np.array([\n",
    "    [0 for x in range(6)],\n",
    "    [0, 0, 1, 1, 0, 0],\n",
    "    [0, 1, 0, 1, 1, 0],\n",
    "    [0, 1, 0, 0, 1, 0],\n",
    "    [0, 1, 1, 1, 0, 0],\n",
    "    [0 for x in range(6)]\n",
    "])\n",
    "\n",
    "print(liegendes_herz)"
   ]
  },
  {
   "cell_type": "code",
   "execution_count": null,
   "metadata": {},
   "outputs": [],
   "source": []
  }
 ],
 "metadata": {
  "kernelspec": {
   "display_name": "Python 3",
   "language": "python",
   "name": "python3"
  },
  "language_info": {
   "codemirror_mode": {
    "name": "ipython",
    "version": 3
   },
   "file_extension": ".py",
   "mimetype": "text/x-python",
   "name": "python",
   "nbconvert_exporter": "python",
   "pygments_lexer": "ipython3",
   "version": "3.8.8"
  }
 },
 "nbformat": 4,
 "nbformat_minor": 4
}
